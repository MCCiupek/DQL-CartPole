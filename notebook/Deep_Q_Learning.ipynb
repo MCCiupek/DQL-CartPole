{
 "cells": [
  {
   "cell_type": "markdown",
   "metadata": {},
   "source": [
    "# Deep Q-Learning\n",
    "\n",
    "In this part we will cover Deep Q-Learning, which is basically Q-learning with neural networks.\n",
    "\n",
    "We will cover:\n",
    "- Bellman Equation\n",
    "- Neural Networks role in Deep Q-Learning\n",
    "\n",
    "And then we will make a whole Deep Q-Learning algorithm using the library [Pytorch](https://pytorch.org/) and the environment framework [OpenAI-Gym](https://gym.openai.com/)."
   ]
  },
  {
   "cell_type": "markdown",
   "metadata": {},
   "source": [
    "## The Bellman Equation\n",
    "\n",
    "![bellman](./img/bellman_equation.png)\n",
    "\n",
    "The Bellman Equation tells us how to update our Q-table after each step we take. To summarize this equation, the agent updates the current perceived value with the estimated optimal future reward which assumes that the agent takes the best current known action. In an implementation, the agent will search through all the actions for a particular state and choose the state-action pair with the highest corresponding Q-value.\n",
    "\n",
    "This function allows us to determine the expected action based on states.\\\n",
    "In this exercice we will use a slightly modified version of the Bellman Equation adapted for [deterministic environments](https://www.doc.ic.ac.uk/project/examples/2005/163/g0516334/environ.html) such as the one we will be using."
   ]
  },
  {
   "cell_type": "markdown",
   "metadata": {},
   "source": [
    "## Neural Networks role in Deep Q-Learning\n",
    "\n",
    "While vanilla Q-Learning might be sufficient for learning how to perform in simple environment, its perfromance will drop off considerably in more complex and sophisticated environments.\\\n",
    "The iterative process of updating the Q-Values of each state-action pair on a larger state space will become exponentially inefficient.\n",
    "\n",
    "Rather than using value iteration to compute Q-Values and find the optimal Q-Function, we can instead use a function approximator to estimate the optimal Q-Function.\\\n",
    "And you know what can do an excellent job at approximating functions ? That's right: deep neural networks.\\\n",
    "The neural network will be responsible for **evaluating** states. (ie. determine the expected reward of each action on a givent state)\n",
    "\n",
    "By replacing the Q-Table by an artificial neural network, we get rid (somehow) of the exponentially expensiveness of the original Q-Table, allowing us to make our agent evolve in more complex environments."
   ]
  },
  {
   "cell_type": "markdown",
   "metadata": {},
   "source": [
    "## OpenAI Gym\n",
    "\n",
    "Gym is an convenient framework for Reinforcement Learning as it provide a handful of environments for our Agent to evolve in.\n",
    "Gym aims to be a standard in artificial intelligence benchmarking and hopes to standardize the way in which environments are defined in AI research publications, so that published research becomes more easily reproducible.\n",
    "The environment we will be using in this exercice is [CartPole-V0](https://gym.openai.com/envs/CartPole-v0/)."
   ]
  },
  {
   "cell_type": "markdown",
   "metadata": {},
   "source": [
    "## Let's Start !\n",
    "\n",
    "Alright so first things first, let's import everything that we'll need."
   ]
  },
  {
   "cell_type": "code",
   "execution_count": 5,
   "metadata": {},
   "outputs": [],
   "source": [
    "import torch as T\n",
    "import torch.nn as nn\n",
    "import torch.nn.functional as F\n",
    "import torch.optim as optim\n",
    "import numpy as np\n",
    "import gym\n",
    "import random"
   ]
  },
  {
   "cell_type": "markdown",
   "metadata": {},
   "source": [
    "---\n",
    "Next, let's start building our Neural Network.\n",
    "\n",
    "Implement the init fuction of the Deep Q Network.\n",
    "We will have **2 fully connected layers** and **an output layer**.\n",
    "\n",
    "Tips: [torch.nn.Linear](https://pytorch.org/docs/1.9.1/generated/torch.nn.Linear.html), [torch.optim](https://pytorch.org/docs/stable/optim.html)"
   ]
  },
  {
   "cell_type": "code",
   "execution_count": 6,
   "metadata": {},
   "outputs": [],
   "source": [
    "class DeepQNetwork(nn.Module):\n",
    "    def __init__(self, lr, input_dims, fc1_dims, fc2_dims, n_actions):\n",
    "        super(DeepQNetwork, self).__init__()\n",
    "        self.input_dims = input_dims\n",
    "        self.fc1_dims = fc1_dims\n",
    "        self.fc2_dims = fc2_dims\n",
    "        self.n_actions = n_actions\n",
    "\n",
    "        # -- Setup the layers (3 lines) --\n",
    "        self.fc1 = nn.Linear(input_dims, fc1_dims)\n",
    "        self.fc2 = nn.Linear(fc1_dims, fc2_dims)\n",
    "        self.out = nn.Linear(fc2_dims, n_actions)\n",
    "        # -- end of code --\n",
    "\n",
    "        # -- Setup the optimizer and the loss function (2 lines) --\n",
    "        self.optimizer = optim.Adam(self.parameters(), lr=0.001)\n",
    "        self.loss = nn.MSELoss()\n",
    "        # -- end of code --\n",
    "\n",
    "        self.device = T.device('cuda:0' if T.cuda.is_available() else 'cpu')\n",
    "        self.to(self.device)"
   ]
  },
  {
   "cell_type": "markdown",
   "metadata": {},
   "source": [
    "---\n",
    "Next let's implement the forward, you should know how to do it now.\\\n",
    "For the activation function, Relu is suggested for this exercise.\n",
    "\n",
    "> ⚠️ Don't use the activation function on the output layers, we will interpret the result ourselves."
   ]
  },
  {
   "cell_type": "code",
   "execution_count": 7,
   "metadata": {},
   "outputs": [],
   "source": [
    "def forward(self, state):\n",
    "# -- implement the forward (~4-8 lines) --\n",
    "   state = F.relu(self.fc1(state))\n",
    "   state = F.relu(self.fc2(state))\n",
    "   state = self.out(state)\n",
    "   return state\n",
    "# -- end of code --\n",
    "        \n",
    "\n",
    "setattr(DeepQNetwork, \"forward\", forward)"
   ]
  },
  {
   "cell_type": "markdown",
   "metadata": {},
   "source": [
    "---\n",
    "And that's pretty much it for our network.\n",
    "\n",
    "Now what we need is a class to define our Agent. The agent will be responsible for:\n",
    "* Storing transitions. The Agent will need to memorize transitions as it is its learning material.\n",
    "* Choose an actions. The Agent will take action on an epsilon-greedy based manner, ie. it will sometimes take random actions to get a wider variety of transitions to learn from.\n",
    "* Learn from it's memory (ie. update the network)\n",
    "\n",
    "Let's start the job by initializing our Agent class.\\\n",
    "We start by storing all our hyper parameters, as it's always a good idea to save them in case we'd need them in the future.\\\n",
    "Then we initialize our evaluation network, and the we init the memory with empty arrays.\\\n",
    "It might be advisable to make a Memory class dedicated to storing and batching transitions, however for the sake of simplicity on this exercice, we will use multiple arrays to store transitions. (You are of course free to implement one yourself if you feel like it)\n",
    "\n",
    "Tips: [np.zeros](https://numpy.org/doc/stable/reference/generated/numpy.zeros.html)"
   ]
  },
  {
   "cell_type": "code",
   "execution_count": 8,
   "metadata": {},
   "outputs": [],
   "source": [
    "class Agent:\n",
    "    def __init__(self, gamma, epsilon, lr, input_dims, batch_size, n_actions, max_mem_size=100000, eps_end=0.05, eps_dec=5e-4):\n",
    "        self.gamma = gamma\n",
    "        self.epsilon = epsilon\n",
    "        self.eps_min = eps_end\n",
    "        self.eps_dec = eps_dec\n",
    "        self.lr = lr\n",
    "        self.action_space = [i for i in range(n_actions)]\n",
    "        self.mem_size = max_mem_size\n",
    "        self.batch_size = batch_size\n",
    "        self.mem_cntr = 0\n",
    "        self.replace_target = 100\n",
    "\n",
    "        # -- We initialize our Network... (1 line) --\n",
    "        self.Q_eval = DeepQNetwork(lr, input_dims, 64, 64 * 2, n_actions)\n",
    "        # -- end of code --\n",
    "\n",
    "        # -- ...and the Agent's memory (5 lines) --\n",
    "        self.state_memory = np.zeros((max_mem_size, input_dims)) # /!\\ Reminder: A state is also an array in itself\n",
    "        self.new_state_memory = np.zeros((max_mem_size, input_dims))\n",
    "        self.action_memory = np.zeros(max_mem_size)\n",
    "        self.reward_memory = np.zeros(max_mem_size)\n",
    "        self.terminal_memory = np.zeros(max_mem_size)\n",
    "        # -- end of code --"
   ]
  },
  {
   "cell_type": "markdown",
   "metadata": {},
   "source": [
    "---\n",
    "Next, let's make a function allowing us to store transitions easily, this one is pretty straightforward."
   ]
  },
  {
   "cell_type": "code",
   "execution_count": 9,
   "metadata": {},
   "outputs": [],
   "source": [
    "def store_transition(self, state, action, reward, new_state, terminal):\n",
    "    index = self.mem_cntr % self.mem_size\n",
    "    \n",
    "    # -- store the transition (5 lines) --\n",
    "    self.state_memory[index] = state\n",
    "    self.new_state_memory[index] = new_state\n",
    "    self.reward_memory[index] = reward\n",
    "    self.action_memory[index] = action\n",
    "    self.terminal_memory[index] = terminal\n",
    "    # -- end of code --\n",
    "    \n",
    "    self.mem_cntr += 1\n",
    "\n",
    "setattr(Agent, \"store_transition\", store_transition)"
   ]
  },
  {
   "cell_type": "markdown",
   "metadata": {},
   "source": [
    "---\n",
    "Then, we need a function that will actually make a choice based on an observation.\\\n",
    "Remember the epsilon greedy method from the previous subject ? We need to sometime choose a random action according at a rate defined by our epsilon value, this will allow our Agent to explore unknown possibilities to acquire a wider variety of experience.\n",
    "\n",
    "Tips: [torch.Tensor](https://pytorch.org/docs/stable/tensors.html), [torch.argmax](https://pytorch.org/docs/stable/generated/torch.argmax.html), [numpy.random.choice](https://numpy.org/doc/stable/reference/random/generated/numpy.random.choice.html)"
   ]
  },
  {
   "cell_type": "code",
   "execution_count": 10,
   "metadata": {},
   "outputs": [],
   "source": [
    "def choose_action(self, observation) -> int:\n",
    "    # -- Epsilon greedy choice (~7 lines) --\n",
    "    n = random.random()\n",
    "    if n > self.epsilon:\n",
    "        state = T.as_tensor(observation).float()\n",
    "        action = self.Q_eval.forward(state)\n",
    "        return T.argmax(action).numpy()\n",
    "    else:\n",
    "        return random.sample(self.action_space, 1)[0]\n",
    "    # -- end of code --\n",
    "\n",
    "setattr(Agent, \"choose_action\", choose_action)"
   ]
  },
  {
   "cell_type": "markdown",
   "metadata": {},
   "source": [
    "---\n",
    "Here comes the toughest part of our exercice, we need the Agent to be able to learn.\\\n",
    "In terms of algorithm, it is pretty similar to the typical supervised learning: determine loss -> backward. The catch here is how we determine the loss.\\\n",
    "Basically here we want to move the estimate value of the current state toward the estimate value of the next state, so our target here will be the  (read this again if needed, it is important)\n",
    "\n",
    "Let's break down the algorithm into multiple parts:\n",
    "1. If not enough data in memory, return.\n",
    "2. Retreive a batch of data.\n",
    "3. Feedforward our batch to get the relevant parameters to compute the loss function.\n",
    "4. Compute the target thanks to the Bellman equation: target = reward + gamma * max(next) (Tip: [torch.max](https://pytorch.org/docs/stable/generated/torch.max.html))\n",
    "5. Compute loss and do the backward propagation.\n",
    "\n"
   ]
  },
  {
   "cell_type": "code",
   "execution_count": 11,
   "metadata": {},
   "outputs": [],
   "source": [
    "def learn(self):\n",
    "    # 1. If not enough data, return\n",
    "\n",
    "    if self.mem_cntr < self.batch_size:\n",
    "        return\n",
    "\n",
    "    self.Q_eval.optimizer.zero_grad() # (we also reset the optimizer's gradients)\n",
    "\n",
    "    # 2. Retreive a batch of data.\n",
    "\n",
    "    max_mem = min(self.mem_cntr, self.mem_size)\n",
    "    batch_index = np.arange(self.batch_size, dtype=np.int32)\n",
    "    batch = np.random.choice(max_mem, self.batch_size, replace=False)\n",
    "\n",
    "    # -- We initalize the batch (5 lines) (tip: use the batch variable set above) --\n",
    "    state_batch = [self.state_memory[n] for n in batch] # np.array[self.state_memory[i] for i in batch_index]\n",
    "    new_state_batch = [self.new_state_memory[n] for n in batch]#self.new_state_memory[batch]\n",
    "    reward_batch = [self.reward_memory[n] for n in batch]#self.reward_memory[batch]\n",
    "    terminal_batch = [self.terminal_memory[n] for n in batch]#self.terminal_memory[batch]\n",
    "    action_batch = [self.action_memory[n] for n in batch]#self.action_memory[batch]\n",
    "    # -- end of code --\n",
    "\n",
    "    # 3. Feedforward\n",
    "\n",
    "    # -- We get our relevant parameters for our loss function. (2-3 lines) --\n",
    "    q_eval = self.Q_eval.forward(T.as_tensor(state_batch).float())\n",
    "    q_next = self.Q_eval.forward(T.as_tensor(new_state_batch).float())\n",
    "    # -- end of code --\n",
    "\n",
    "    q_next[terminal_batch] = 0.0 # We set the expected reward of terminal states to 0\n",
    "\n",
    "    # 4. Compute the target\n",
    "    # -- We get our target (what we want to tilt our estimates towards) (1 line) --\n",
    "    q_target = self.Q_eval.forward(T.as_tensor(state_batch).float()).detach().numpy()\n",
    "    for i in batch_index:\n",
    "        if terminal_batch[i]:\n",
    "            q_target[i, int(action_batch[i])] = reward_batch[i]\n",
    "        else:\n",
    "            q_target[i, int(action_batch[i])] = reward_batch[i] + self.gamma * T.max(q_next[i]).item()\n",
    "    q_target = T.as_tensor(q_target).float()\n",
    "        # Correction note: we transform q_next from a (64, 2) to a (64,) by using T.max,\n",
    "        # which will select only the highest expected values.\n",
    "    # -- end of code --\n",
    "\n",
    "    # 5. Backward\n",
    "    \n",
    "    loss = self.Q_eval.loss(q_target, q_eval).to(self.Q_eval.device)\n",
    "    loss.backward()\n",
    "    self.Q_eval.optimizer.step()\n",
    "\n",
    "    self.epsilon = self.epsilon - self.eps_dec if self.epsilon > self.eps_min else self.eps_min\n",
    "\n",
    "setattr(Agent, \"learn\", learn)"
   ]
  },
  {
   "cell_type": "markdown",
   "metadata": {},
   "source": [
    "---\n",
    "Now is the moment of truth, run the cells below to start the training of your Agent.\\\n",
    "If everything is going well, your average score should be rapidly approaching 200, which is the highest score you can get on the CartPole environment used here."
   ]
  },
  {
   "cell_type": "code",
   "execution_count": 12,
   "metadata": {},
   "outputs": [
    {
     "name": "stderr",
     "output_type": "stream",
     "text": [
      "/Users/mcciupek/Documents/42/POC-IA-POOL/env/lib/python3.7/site-packages/gym/logger.py:30: UserWarning: \u001b[33mWARN: Box bound precision lowered by casting to float32\u001b[0m\n",
      "  warnings.warn(colorize('%s: %s'%('WARN', msg % args), 'yellow'))\n"
     ]
    }
   ],
   "source": [
    "env = gym.make('CartPole-v1')\n",
    "agent = Agent(gamma=0.99, epsilon=1.0, batch_size=64, n_actions=2, eps_end=0.01, input_dims=4, lr=0.0001)\n",
    "scores, eps_history = [], []\n",
    "n_games = 200"
   ]
  },
  {
   "cell_type": "code",
   "execution_count": 13,
   "metadata": {},
   "outputs": [
    {
     "name": "stdout",
     "output_type": "stream",
     "text": [
      "episode 0 | score 14.00 | average score 14.00 | epsilon 1.00\n",
      "episode 1 | score 16.00 | average score 15.00 | epsilon 1.00\n",
      "episode 2 | score 18.00 | average score 16.00 | epsilon 1.00\n",
      "episode 3 | score 13.00 | average score 15.25 | epsilon 1.00\n",
      "episode 4 | score 15.00 | average score 15.20 | epsilon 0.99\n"
     ]
    },
    {
     "name": "stderr",
     "output_type": "stream",
     "text": [
      "/Users/mcciupek/Documents/42/POC-IA-POOL/env/lib/python3.7/site-packages/ipykernel_launcher.py:26: UserWarning: Creating a tensor from a list of numpy.ndarrays is extremely slow. Please consider converting the list to a single numpy.ndarray with numpy.array() before converting to a tensor. (Triggered internally at  ../torch/csrc/utils/tensor_new.cpp:201.)\n"
     ]
    },
    {
     "name": "stdout",
     "output_type": "stream",
     "text": [
      "episode 5 | score 24.00 | average score 16.67 | epsilon 0.98\n",
      "episode 6 | score 48.00 | average score 21.14 | epsilon 0.96\n",
      "episode 7 | score 24.00 | average score 21.50 | epsilon 0.95\n",
      "episode 8 | score 21.00 | average score 21.44 | epsilon 0.94\n",
      "episode 9 | score 19.00 | average score 21.20 | epsilon 0.93\n",
      "episode 10 | score 40.00 | average score 22.91 | epsilon 0.91\n",
      "episode 11 | score 16.00 | average score 22.33 | epsilon 0.90\n",
      "episode 12 | score 19.00 | average score 22.08 | epsilon 0.89\n",
      "episode 13 | score 19.00 | average score 21.86 | epsilon 0.88\n",
      "episode 14 | score 19.00 | average score 21.67 | epsilon 0.87\n",
      "episode 15 | score 14.00 | average score 21.19 | epsilon 0.86\n",
      "episode 16 | score 20.00 | average score 21.12 | epsilon 0.85\n",
      "episode 17 | score 12.00 | average score 20.61 | epsilon 0.85\n",
      "episode 18 | score 23.00 | average score 20.74 | epsilon 0.83\n",
      "episode 19 | score 26.00 | average score 21.00 | epsilon 0.82\n",
      "episode 20 | score 34.00 | average score 21.62 | epsilon 0.80\n",
      "episode 21 | score 22.00 | average score 21.64 | epsilon 0.79\n",
      "episode 22 | score 14.00 | average score 21.30 | epsilon 0.79\n",
      "episode 23 | score 14.00 | average score 21.00 | epsilon 0.78\n",
      "episode 24 | score 34.00 | average score 21.52 | epsilon 0.76\n",
      "episode 25 | score 34.00 | average score 22.00 | epsilon 0.75\n",
      "episode 26 | score 38.00 | average score 22.59 | epsilon 0.73\n",
      "episode 27 | score 36.00 | average score 23.07 | epsilon 0.71\n",
      "episode 28 | score 21.00 | average score 23.00 | epsilon 0.70\n",
      "episode 29 | score 34.00 | average score 23.37 | epsilon 0.68\n",
      "episode 30 | score 52.00 | average score 24.63 | epsilon 0.66\n",
      "episode 31 | score 39.00 | average score 25.40 | epsilon 0.64\n",
      "episode 32 | score 65.00 | average score 26.97 | epsilon 0.60\n",
      "episode 33 | score 35.00 | average score 27.70 | epsilon 0.59\n",
      "episode 34 | score 36.00 | average score 28.40 | epsilon 0.57\n",
      "episode 35 | score 25.00 | average score 28.43 | epsilon 0.56\n",
      "episode 36 | score 69.00 | average score 29.13 | epsilon 0.52\n",
      "episode 37 | score 180.00 | average score 34.33 | epsilon 0.43\n",
      "episode 38 | score 240.00 | average score 41.63 | epsilon 0.31\n",
      "episode 39 | score 141.00 | average score 45.70 | epsilon 0.24\n",
      "episode 40 | score 144.00 | average score 49.17 | epsilon 0.17\n",
      "episode 41 | score 182.00 | average score 54.70 | epsilon 0.08\n",
      "episode 42 | score 190.00 | average score 60.40 | epsilon 0.01\n",
      "episode 43 | score 148.00 | average score 64.70 | epsilon 0.01\n",
      "episode 44 | score 212.00 | average score 71.13 | epsilon 0.01\n",
      "episode 45 | score 212.00 | average score 77.73 | epsilon 0.01\n",
      "episode 46 | score 218.00 | average score 84.33 | epsilon 0.01\n",
      "episode 47 | score 243.00 | average score 92.03 | epsilon 0.01\n",
      "episode 48 | score 198.00 | average score 97.87 | epsilon 0.01\n",
      "episode 49 | score 202.00 | average score 103.73 | epsilon 0.01\n",
      "episode 50 | score 188.00 | average score 108.87 | epsilon 0.01\n",
      "episode 51 | score 151.00 | average score 113.17 | epsilon 0.01\n",
      "episode 52 | score 163.00 | average score 118.13 | epsilon 0.01\n",
      "episode 53 | score 213.00 | average score 124.77 | epsilon 0.01\n",
      "episode 54 | score 184.00 | average score 129.77 | epsilon 0.01\n",
      "episode 55 | score 140.00 | average score 133.30 | epsilon 0.01\n",
      "episode 56 | score 165.00 | average score 137.53 | epsilon 0.01\n",
      "episode 57 | score 163.00 | average score 141.77 | epsilon 0.01\n",
      "episode 58 | score 183.00 | average score 147.17 | epsilon 0.01\n",
      "episode 59 | score 189.00 | average score 152.33 | epsilon 0.01\n",
      "episode 60 | score 179.00 | average score 156.57 | epsilon 0.01\n",
      "episode 61 | score 135.00 | average score 159.77 | epsilon 0.01\n",
      "episode 62 | score 252.00 | average score 166.00 | epsilon 0.01\n",
      "episode 63 | score 154.00 | average score 169.97 | epsilon 0.01\n",
      "episode 64 | score 246.00 | average score 176.97 | epsilon 0.01\n",
      "episode 65 | score 193.00 | average score 182.57 | epsilon 0.01\n",
      "episode 66 | score 256.00 | average score 188.80 | epsilon 0.01\n",
      "episode 67 | score 175.00 | average score 188.63 | epsilon 0.01\n",
      "episode 68 | score 238.00 | average score 188.57 | epsilon 0.01\n",
      "episode 69 | score 144.00 | average score 188.67 | epsilon 0.01\n",
      "episode 70 | score 204.00 | average score 190.67 | epsilon 0.01\n",
      "episode 71 | score 228.00 | average score 192.20 | epsilon 0.01\n",
      "episode 72 | score 163.00 | average score 191.30 | epsilon 0.01\n",
      "episode 73 | score 190.00 | average score 192.70 | epsilon 0.01\n",
      "episode 74 | score 213.00 | average score 192.73 | epsilon 0.01\n",
      "episode 75 | score 259.00 | average score 194.30 | epsilon 0.01\n",
      "episode 76 | score 242.00 | average score 195.10 | epsilon 0.01\n",
      "episode 77 | score 184.00 | average score 193.13 | epsilon 0.01\n",
      "episode 78 | score 201.00 | average score 193.23 | epsilon 0.01\n",
      "episode 79 | score 279.00 | average score 195.80 | epsilon 0.01\n",
      "episode 80 | score 177.00 | average score 195.43 | epsilon 0.01\n",
      "episode 81 | score 263.00 | average score 199.17 | epsilon 0.01\n",
      "episode 82 | score 194.00 | average score 200.20 | epsilon 0.01\n",
      "episode 83 | score 226.00 | average score 200.63 | epsilon 0.01\n",
      "episode 84 | score 215.00 | average score 201.67 | epsilon 0.01\n",
      "episode 85 | score 343.00 | average score 208.43 | epsilon 0.01\n",
      "episode 86 | score 188.00 | average score 209.20 | epsilon 0.01\n",
      "episode 87 | score 183.00 | average score 209.87 | epsilon 0.01\n",
      "episode 88 | score 371.00 | average score 216.13 | epsilon 0.01\n",
      "episode 89 | score 218.00 | average score 217.10 | epsilon 0.01\n",
      "episode 90 | score 222.00 | average score 218.53 | epsilon 0.01\n",
      "episode 91 | score 319.00 | average score 224.67 | epsilon 0.01\n",
      "episode 92 | score 306.00 | average score 226.47 | epsilon 0.01\n",
      "episode 93 | score 220.00 | average score 228.67 | epsilon 0.01\n",
      "episode 94 | score 178.00 | average score 226.40 | epsilon 0.01\n",
      "episode 95 | score 191.00 | average score 226.33 | epsilon 0.01\n",
      "episode 96 | score 278.00 | average score 227.07 | epsilon 0.01\n",
      "episode 97 | score 268.00 | average score 230.17 | epsilon 0.01\n",
      "episode 98 | score 201.00 | average score 228.93 | epsilon 0.01\n",
      "episode 99 | score 172.00 | average score 229.87 | epsilon 0.01\n",
      "episode 100 | score 237.00 | average score 230.97 | epsilon 0.01\n",
      "episode 101 | score 317.00 | average score 233.93 | epsilon 0.01\n",
      "episode 102 | score 240.00 | average score 236.50 | epsilon 0.01\n",
      "episode 103 | score 178.00 | average score 236.10 | epsilon 0.01\n",
      "episode 104 | score 235.00 | average score 236.83 | epsilon 0.01\n",
      "episode 105 | score 180.00 | average score 234.20 | epsilon 0.01\n",
      "episode 106 | score 225.00 | average score 233.63 | epsilon 0.01\n",
      "episode 107 | score 227.00 | average score 235.07 | epsilon 0.01\n",
      "episode 108 | score 189.00 | average score 234.67 | epsilon 0.01\n",
      "episode 109 | score 234.00 | average score 233.17 | epsilon 0.01\n",
      "episode 110 | score 187.00 | average score 233.50 | epsilon 0.01\n",
      "episode 111 | score 180.00 | average score 230.73 | epsilon 0.01\n",
      "episode 112 | score 208.00 | average score 231.20 | epsilon 0.01\n",
      "episode 113 | score 135.00 | average score 228.17 | epsilon 0.01\n",
      "episode 114 | score 268.00 | average score 229.93 | epsilon 0.01\n",
      "episode 115 | score 194.00 | average score 224.97 | epsilon 0.01\n",
      "episode 116 | score 160.00 | average score 224.03 | epsilon 0.01\n",
      "episode 117 | score 232.00 | average score 225.67 | epsilon 0.01\n",
      "episode 118 | score 127.00 | average score 217.53 | epsilon 0.01\n",
      "episode 119 | score 127.00 | average score 214.50 | epsilon 0.01\n",
      "episode 120 | score 253.00 | average score 215.53 | epsilon 0.01\n",
      "episode 121 | score 187.00 | average score 211.13 | epsilon 0.01\n",
      "episode 122 | score 176.00 | average score 206.80 | epsilon 0.01\n",
      "episode 123 | score 198.00 | average score 206.07 | epsilon 0.01\n",
      "episode 124 | score 147.00 | average score 205.03 | epsilon 0.01\n",
      "episode 125 | score 228.00 | average score 206.27 | epsilon 0.01\n",
      "episode 126 | score 202.00 | average score 203.73 | epsilon 0.01\n",
      "episode 127 | score 196.00 | average score 201.33 | epsilon 0.01\n",
      "episode 128 | score 192.00 | average score 201.03 | epsilon 0.01\n",
      "episode 129 | score 313.00 | average score 205.73 | epsilon 0.01\n",
      "episode 130 | score 159.00 | average score 203.13 | epsilon 0.01\n",
      "episode 131 | score 169.00 | average score 198.20 | epsilon 0.01\n",
      "episode 132 | score 147.00 | average score 195.10 | epsilon 0.01\n",
      "episode 133 | score 302.00 | average score 199.23 | epsilon 0.01\n",
      "episode 134 | score 143.00 | average score 196.17 | epsilon 0.01\n",
      "episode 135 | score 193.00 | average score 196.60 | epsilon 0.01\n",
      "episode 136 | score 245.00 | average score 197.27 | epsilon 0.01\n",
      "episode 137 | score 169.00 | average score 195.33 | epsilon 0.01\n",
      "episode 138 | score 268.00 | average score 197.97 | epsilon 0.01\n",
      "episode 139 | score 236.00 | average score 198.03 | epsilon 0.01\n",
      "episode 140 | score 129.00 | average score 196.10 | epsilon 0.01\n",
      "episode 141 | score 256.00 | average score 198.63 | epsilon 0.01\n",
      "episode 142 | score 181.00 | average score 197.73 | epsilon 0.01\n",
      "episode 143 | score 169.00 | average score 198.87 | epsilon 0.01\n",
      "episode 144 | score 162.00 | average score 195.33 | epsilon 0.01\n",
      "episode 145 | score 155.00 | average score 194.03 | epsilon 0.01\n",
      "episode 146 | score 359.00 | average score 200.67 | epsilon 0.01\n",
      "episode 147 | score 157.00 | average score 198.17 | epsilon 0.01\n",
      "episode 148 | score 146.00 | average score 198.80 | epsilon 0.01\n",
      "episode 149 | score 267.00 | average score 203.47 | epsilon 0.01\n",
      "episode 150 | score 178.00 | average score 200.97 | epsilon 0.01\n",
      "episode 151 | score 176.00 | average score 200.60 | epsilon 0.01\n",
      "episode 152 | score 233.00 | average score 202.50 | epsilon 0.01\n",
      "episode 153 | score 200.00 | average score 202.57 | epsilon 0.01\n",
      "episode 154 | score 154.00 | average score 202.80 | epsilon 0.01\n",
      "episode 155 | score 182.00 | average score 201.27 | epsilon 0.01\n",
      "episode 156 | score 222.00 | average score 201.93 | epsilon 0.01\n",
      "episode 157 | score 203.00 | average score 202.17 | epsilon 0.01\n",
      "episode 158 | score 193.00 | average score 202.20 | epsilon 0.01\n",
      "episode 159 | score 211.00 | average score 198.80 | epsilon 0.01\n",
      "episode 160 | score 199.00 | average score 200.13 | epsilon 0.01\n",
      "episode 161 | score 159.00 | average score 199.80 | epsilon 0.01\n",
      "episode 162 | score 196.00 | average score 201.43 | epsilon 0.01\n",
      "episode 163 | score 131.00 | average score 195.73 | epsilon 0.01\n",
      "episode 164 | score 212.00 | average score 198.03 | epsilon 0.01\n",
      "episode 165 | score 193.00 | average score 198.03 | epsilon 0.01\n",
      "episode 166 | score 146.00 | average score 194.73 | epsilon 0.01\n",
      "episode 167 | score 156.00 | average score 194.30 | epsilon 0.01\n",
      "episode 168 | score 151.00 | average score 190.40 | epsilon 0.01\n",
      "episode 169 | score 147.00 | average score 187.43 | epsilon 0.01\n",
      "episode 170 | score 131.00 | average score 187.50 | epsilon 0.01\n",
      "episode 171 | score 180.00 | average score 184.97 | epsilon 0.01\n",
      "episode 172 | score 166.00 | average score 184.47 | epsilon 0.01\n",
      "episode 173 | score 166.00 | average score 184.37 | epsilon 0.01\n",
      "episode 174 | score 327.00 | average score 189.87 | epsilon 0.01\n",
      "episode 175 | score 186.00 | average score 190.90 | epsilon 0.01\n",
      "episode 176 | score 167.00 | average score 184.50 | epsilon 0.01\n",
      "episode 177 | score 152.00 | average score 184.33 | epsilon 0.01\n",
      "episode 178 | score 169.00 | average score 185.10 | epsilon 0.01\n",
      "episode 179 | score 219.00 | average score 183.50 | epsilon 0.01\n",
      "episode 180 | score 206.00 | average score 184.43 | epsilon 0.01\n",
      "episode 181 | score 209.00 | average score 185.53 | epsilon 0.01\n",
      "episode 182 | score 377.00 | average score 190.33 | epsilon 0.01\n",
      "episode 183 | score 207.00 | average score 190.57 | epsilon 0.01\n",
      "episode 184 | score 147.00 | average score 190.33 | epsilon 0.01\n",
      "episode 185 | score 199.00 | average score 190.90 | epsilon 0.01\n",
      "episode 186 | score 248.00 | average score 191.77 | epsilon 0.01\n",
      "episode 187 | score 152.00 | average score 190.07 | epsilon 0.01\n",
      "episode 188 | score 164.00 | average score 189.10 | epsilon 0.01\n",
      "episode 189 | score 164.00 | average score 187.53 | epsilon 0.01\n",
      "episode 190 | score 233.00 | average score 188.67 | epsilon 0.01\n",
      "episode 191 | score 203.00 | average score 190.13 | epsilon 0.01\n",
      "episode 192 | score 146.00 | average score 188.47 | epsilon 0.01\n",
      "episode 193 | score 192.00 | average score 190.50 | epsilon 0.01\n",
      "episode 194 | score 179.00 | average score 189.40 | epsilon 0.01\n",
      "episode 195 | score 146.00 | average score 187.83 | epsilon 0.01\n",
      "episode 196 | score 289.00 | average score 192.60 | epsilon 0.01\n",
      "episode 197 | score 165.00 | average score 192.90 | epsilon 0.01\n",
      "episode 198 | score 140.00 | average score 192.53 | epsilon 0.01\n",
      "episode 199 | score 195.00 | average score 194.13 | epsilon 0.01\n"
     ]
    }
   ],
   "source": [
    "for i in range(n_games):\n",
    "    score = 0\n",
    "    done = False\n",
    "    observation = env.reset()\n",
    "    while not done:\n",
    "        action = agent.choose_action(observation)\n",
    "        observation_, reward, done, info = env.step(action)\n",
    "        if reward != 1:\n",
    "            print(action, reward)\n",
    "        score += reward\n",
    "        agent.store_transition(observation, action, reward, observation_, done)\n",
    "        #if done:\n",
    "        #    break\n",
    "        agent.learn()\n",
    "        observation = observation_\n",
    "    scores.append(score)\n",
    "    eps_history.append(agent.epsilon)\n",
    "    avg_score = np.mean(scores[-30:])\n",
    "    print('episode', i, '| score %.2f' % score, '| average score %.2f' % avg_score, '| epsilon %.2f' % agent.epsilon)"
   ]
  },
  {
   "cell_type": "code",
   "execution_count": 14,
   "metadata": {},
   "outputs": [
    {
     "data": {
      "image/png": "[encoded data removed]",
      "text/plain": [
       "<Figure size 864x360 with 2 Axes>"
      ]
     },
     "metadata": {
      "needs_background": "light"
     },
     "output_type": "display_data"
    }
   ],
   "source": [
    "import matplotlib.pyplot as plt\n",
    "\n",
    "def plot_res(values, title=''):   \n",
    "    ''' Plot the reward curve and histogram of results over time.'''\n",
    "    # Update the window after each episode\n",
    "    # clear_output(wait=True)\n",
    "    \n",
    "    # Define the figure\n",
    "    f, ax = plt.subplots(nrows=1, ncols=2, figsize=(12,5))\n",
    "    f.suptitle(title)\n",
    "    ax[0].plot(values, label='score per run')\n",
    "    ax[0].axhline(200, c='red',ls='--', label='goal')\n",
    "    ax[0].set_xlabel('Episodes')\n",
    "    ax[0].set_ylabel('Reward')\n",
    "    x = range(len(values))\n",
    "    ax[0].legend()\n",
    "    # Calculate the trend\n",
    "    try:\n",
    "        z = np.polyfit(x, values, 1)\n",
    "        p = np.poly1d(z)\n",
    "        ax[0].plot(x,p(x),\"--\", label='trend')\n",
    "    except:\n",
    "        print('')\n",
    "    \n",
    "    # Plot the histogram of results\n",
    "    ax[1].hist(values[-50:])\n",
    "    ax[1].axvline(200, c='red', label='goal')\n",
    "    ax[1].set_xlabel('Scores per Last 50 Episodes')\n",
    "    ax[1].set_ylabel('Frequency')\n",
    "    ax[1].legend()\n",
    "    plt.show()\n",
    "\n",
    "plot_res(scores)"
   ]
  },
  {
   "cell_type": "markdown",
   "metadata": {},
   "source": [
    "---\n",
    "If you saw an improvement during the training of your agent, then congratulation ! You made it !\n",
    "Now, wanna see your Agent in action ? Run this cell below to watch your Agent play 5 games of CartPole.\n",
    "\n",
    "> DISCLAIMER ! Gym is very wanky with Jupyter, do not interrupt this cell and wait for it to finish by itself or the render window might never close."
   ]
  },
  {
   "cell_type": "code",
   "execution_count": 15,
   "metadata": {},
   "outputs": [
    {
     "ename": "ImportError",
     "evalue": "Can't find framework OpenGL.",
     "output_type": "error",
     "traceback": [
      "\u001b[0;31m---------------------------------------------------------------------------\u001b[0m",
      "\u001b[0;31mImportError\u001b[0m                               Traceback (most recent call last)",
      "\u001b[0;32m/var/folders/_3/t41kbsns4sj8lvxbh4lz4z4w0000gn/T/ipykernel_691/479089312.py\u001b[0m in \u001b[0;36m<module>\u001b[0;34m\u001b[0m\n\u001b[0;32m----> 1\u001b[0;31m \u001b[0;32mfrom\u001b[0m \u001b[0mpyglet\u001b[0m\u001b[0;34m.\u001b[0m\u001b[0mgl\u001b[0m \u001b[0;32mimport\u001b[0m \u001b[0;34m*\u001b[0m\u001b[0;34m\u001b[0m\u001b[0;34m\u001b[0m\u001b[0m\n\u001b[0m",
      "\u001b[0;32m~/Documents/42/POC-IA-POOL/env/lib/python3.7/site-packages/pyglet/gl/__init__.py\u001b[0m in \u001b[0;36m<module>\u001b[0;34m\u001b[0m\n\u001b[1;32m     93\u001b[0m \"\"\"\n\u001b[1;32m     94\u001b[0m \u001b[0;34m\u001b[0m\u001b[0m\n\u001b[0;32m---> 95\u001b[0;31m \u001b[0;32mfrom\u001b[0m \u001b[0mpyglet\u001b[0m\u001b[0;34m.\u001b[0m\u001b[0mgl\u001b[0m\u001b[0;34m.\u001b[0m\u001b[0mlib\u001b[0m \u001b[0;32mimport\u001b[0m \u001b[0mGLException\u001b[0m\u001b[0;34m\u001b[0m\u001b[0;34m\u001b[0m\u001b[0m\n\u001b[0m\u001b[1;32m     96\u001b[0m \u001b[0;32mfrom\u001b[0m \u001b[0mpyglet\u001b[0m\u001b[0;34m.\u001b[0m\u001b[0mgl\u001b[0m\u001b[0;34m.\u001b[0m\u001b[0mgl\u001b[0m \u001b[0;32mimport\u001b[0m \u001b[0;34m*\u001b[0m\u001b[0;34m\u001b[0m\u001b[0;34m\u001b[0m\u001b[0m\n\u001b[1;32m     97\u001b[0m \u001b[0;32mfrom\u001b[0m \u001b[0mpyglet\u001b[0m\u001b[0;34m.\u001b[0m\u001b[0mgl\u001b[0m\u001b[0;34m.\u001b[0m\u001b[0mglu\u001b[0m \u001b[0;32mimport\u001b[0m \u001b[0;34m*\u001b[0m\u001b[0;34m\u001b[0m\u001b[0;34m\u001b[0m\u001b[0m\n",
      "\u001b[0;32m~/Documents/42/POC-IA-POOL/env/lib/python3.7/site-packages/pyglet/gl/lib.py\u001b[0m in \u001b[0;36m<module>\u001b[0;34m\u001b[0m\n\u001b[1;32m    145\u001b[0m     \u001b[0;32mfrom\u001b[0m \u001b[0mpyglet\u001b[0m\u001b[0;34m.\u001b[0m\u001b[0mgl\u001b[0m\u001b[0;34m.\u001b[0m\u001b[0mlib_wgl\u001b[0m \u001b[0;32mimport\u001b[0m \u001b[0mlink_GL\u001b[0m\u001b[0;34m,\u001b[0m \u001b[0mlink_GLU\u001b[0m\u001b[0;34m,\u001b[0m \u001b[0mlink_WGL\u001b[0m\u001b[0;34m\u001b[0m\u001b[0;34m\u001b[0m\u001b[0m\n\u001b[1;32m    146\u001b[0m \u001b[0;32melif\u001b[0m \u001b[0mpyglet\u001b[0m\u001b[0;34m.\u001b[0m\u001b[0mcompat_platform\u001b[0m \u001b[0;34m==\u001b[0m \u001b[0;34m'darwin'\u001b[0m\u001b[0;34m:\u001b[0m\u001b[0;34m\u001b[0m\u001b[0;34m\u001b[0m\u001b[0m\n\u001b[0;32m--> 147\u001b[0;31m     \u001b[0;32mfrom\u001b[0m \u001b[0mpyglet\u001b[0m\u001b[0;34m.\u001b[0m\u001b[0mgl\u001b[0m\u001b[0;34m.\u001b[0m\u001b[0mlib_agl\u001b[0m \u001b[0;32mimport\u001b[0m \u001b[0mlink_GL\u001b[0m\u001b[0;34m,\u001b[0m \u001b[0mlink_GLU\u001b[0m\u001b[0;34m,\u001b[0m \u001b[0mlink_AGL\u001b[0m\u001b[0;34m\u001b[0m\u001b[0;34m\u001b[0m\u001b[0m\n\u001b[0m\u001b[1;32m    148\u001b[0m \u001b[0;32melse\u001b[0m\u001b[0;34m:\u001b[0m\u001b[0;34m\u001b[0m\u001b[0;34m\u001b[0m\u001b[0m\n\u001b[1;32m    149\u001b[0m     \u001b[0;32mfrom\u001b[0m \u001b[0mpyglet\u001b[0m\u001b[0;34m.\u001b[0m\u001b[0mgl\u001b[0m\u001b[0;34m.\u001b[0m\u001b[0mlib_glx\u001b[0m \u001b[0;32mimport\u001b[0m \u001b[0mlink_GL\u001b[0m\u001b[0;34m,\u001b[0m \u001b[0mlink_GLU\u001b[0m\u001b[0;34m,\u001b[0m \u001b[0mlink_GLX\u001b[0m\u001b[0;34m\u001b[0m\u001b[0;34m\u001b[0m\u001b[0m\n",
      "\u001b[0;32m~/Documents/42/POC-IA-POOL/env/lib/python3.7/site-packages/pyglet/gl/lib_agl.py\u001b[0m in \u001b[0;36m<module>\u001b[0;34m\u001b[0m\n\u001b[1;32m     41\u001b[0m \u001b[0m__all__\u001b[0m \u001b[0;34m=\u001b[0m \u001b[0;34m[\u001b[0m\u001b[0;34m'link_GL'\u001b[0m\u001b[0;34m,\u001b[0m \u001b[0;34m'link_GLU'\u001b[0m\u001b[0;34m,\u001b[0m \u001b[0;34m'link_AGL'\u001b[0m\u001b[0;34m]\u001b[0m\u001b[0;34m\u001b[0m\u001b[0;34m\u001b[0m\u001b[0m\n\u001b[1;32m     42\u001b[0m \u001b[0;34m\u001b[0m\u001b[0m\n\u001b[0;32m---> 43\u001b[0;31m \u001b[0mgl_lib\u001b[0m \u001b[0;34m=\u001b[0m \u001b[0mpyglet\u001b[0m\u001b[0;34m.\u001b[0m\u001b[0mlib\u001b[0m\u001b[0;34m.\u001b[0m\u001b[0mload_library\u001b[0m\u001b[0;34m(\u001b[0m\u001b[0mframework\u001b[0m\u001b[0;34m=\u001b[0m\u001b[0;34m'OpenGL'\u001b[0m\u001b[0;34m)\u001b[0m\u001b[0;34m\u001b[0m\u001b[0;34m\u001b[0m\u001b[0m\n\u001b[0m\u001b[1;32m     44\u001b[0m \u001b[0magl_lib\u001b[0m \u001b[0;34m=\u001b[0m \u001b[0mpyglet\u001b[0m\u001b[0;34m.\u001b[0m\u001b[0mlib\u001b[0m\u001b[0;34m.\u001b[0m\u001b[0mload_library\u001b[0m\u001b[0;34m(\u001b[0m\u001b[0mframework\u001b[0m\u001b[0;34m=\u001b[0m\u001b[0;34m'AGL'\u001b[0m\u001b[0;34m)\u001b[0m\u001b[0;34m\u001b[0m\u001b[0;34m\u001b[0m\u001b[0m\n\u001b[1;32m     45\u001b[0m \u001b[0;34m\u001b[0m\u001b[0m\n",
      "\u001b[0;32m~/Documents/42/POC-IA-POOL/env/lib/python3.7/site-packages/pyglet/lib.py\u001b[0m in \u001b[0;36mload_library\u001b[0;34m(self, *names, **kwargs)\u001b[0m\n\u001b[1;32m    122\u001b[0m \u001b[0;34m\u001b[0m\u001b[0m\n\u001b[1;32m    123\u001b[0m         \u001b[0;32mif\u001b[0m \u001b[0;34m'framework'\u001b[0m \u001b[0;32min\u001b[0m \u001b[0mkwargs\u001b[0m \u001b[0;32mand\u001b[0m \u001b[0mself\u001b[0m\u001b[0;34m.\u001b[0m\u001b[0mplatform\u001b[0m \u001b[0;34m==\u001b[0m \u001b[0;34m'darwin'\u001b[0m\u001b[0;34m:\u001b[0m\u001b[0;34m\u001b[0m\u001b[0;34m\u001b[0m\u001b[0m\n\u001b[0;32m--> 124\u001b[0;31m             \u001b[0;32mreturn\u001b[0m \u001b[0mself\u001b[0m\u001b[0;34m.\u001b[0m\u001b[0mload_framework\u001b[0m\u001b[0;34m(\u001b[0m\u001b[0mkwargs\u001b[0m\u001b[0;34m[\u001b[0m\u001b[0;34m'framework'\u001b[0m\u001b[0;34m]\u001b[0m\u001b[0;34m)\u001b[0m\u001b[0;34m\u001b[0m\u001b[0;34m\u001b[0m\u001b[0m\n\u001b[0m\u001b[1;32m    125\u001b[0m \u001b[0;34m\u001b[0m\u001b[0m\n\u001b[1;32m    126\u001b[0m         \u001b[0;32mif\u001b[0m \u001b[0;32mnot\u001b[0m \u001b[0mnames\u001b[0m\u001b[0;34m:\u001b[0m\u001b[0;34m\u001b[0m\u001b[0;34m\u001b[0m\u001b[0m\n",
      "\u001b[0;32m~/Documents/42/POC-IA-POOL/env/lib/python3.7/site-packages/pyglet/lib.py\u001b[0m in \u001b[0;36mload_framework\u001b[0;34m(self, path)\u001b[0m\n\u001b[1;32m    277\u001b[0m         \u001b[0;32mfor\u001b[0m \u001b[0mdirectory\u001b[0m \u001b[0;32min\u001b[0m \u001b[0mdirectories\u001b[0m\u001b[0;34m:\u001b[0m\u001b[0;34m\u001b[0m\u001b[0;34m\u001b[0m\u001b[0m\n\u001b[1;32m    278\u001b[0m             \u001b[0;32mtry\u001b[0m\u001b[0;34m:\u001b[0m\u001b[0;34m\u001b[0m\u001b[0;34m\u001b[0m\u001b[0m\n\u001b[0;32m--> 279\u001b[0;31m                 \u001b[0;32mfor\u001b[0m \u001b[0mfile\u001b[0m \u001b[0;32min\u001b[0m \u001b[0mos\u001b[0m\u001b[0;34m.\u001b[0m\u001b[0mlistdir\u001b[0m\u001b[0;34m(\u001b[0m\u001b[0mdirectory\u001b[0m\u001b[0;34m)\u001b[0m\u001b[0;34m:\u001b[0m\u001b[0;34m\u001b[0m\u001b[0;34m\u001b[0m\u001b[0m\n\u001b[0m\u001b[1;32m    280\u001b[0m                     \u001b[0mmatch\u001b[0m \u001b[0;34m=\u001b[0m \u001b[0mlib_re\u001b[0m\u001b[0;34m.\u001b[0m\u001b[0mmatch\u001b[0m\u001b[0;34m(\u001b[0m\u001b[0mfile\u001b[0m\u001b[0;34m)\u001b[0m\u001b[0;34m\u001b[0m\u001b[0;34m\u001b[0m\u001b[0m\n\u001b[1;32m    281\u001b[0m                     \u001b[0;32mif\u001b[0m \u001b[0mmatch\u001b[0m\u001b[0;34m:\u001b[0m\u001b[0;34m\u001b[0m\u001b[0;34m\u001b[0m\u001b[0m\n",
      "\u001b[0;31mImportError\u001b[0m: Can't find framework OpenGL."
     ]
    }
   ],
   "source": [
    "from pyglet.gl import *"
   ]
  },
  {
   "cell_type": "code",
   "execution_count": 23,
   "metadata": {},
   "outputs": [
    {
     "ename": "ImportError",
     "evalue": "\n    Error occurred while running `from pyglet.gl import *`\n    HINT: make sure you have OpenGL install. On Ubuntu, you can run 'apt-get install python-opengl'.\n    If you're running on a server, you may need a virtual frame buffer; something like this should work:\n    'xvfb-run -s \"-screen 0 1400x900x24\" python <your_script.py>'\n    ",
     "output_type": "error",
     "traceback": [
      "\u001b[0;31m---------------------------------------------------------------------------\u001b[0m",
      "\u001b[0;31mImportError\u001b[0m                               Traceback (most recent call last)",
      "\u001b[0;32m~/Documents/42/POC-IA-POOL/env/lib/python3.7/site-packages/gym/envs/classic_control/rendering.py\u001b[0m in \u001b[0;36m<module>\u001b[0;34m\u001b[0m\n\u001b[1;32m     26\u001b[0m \u001b[0;32mtry\u001b[0m\u001b[0;34m:\u001b[0m\u001b[0;34m\u001b[0m\u001b[0;34m\u001b[0m\u001b[0m\n\u001b[0;32m---> 27\u001b[0;31m     \u001b[0;32mfrom\u001b[0m \u001b[0mpyglet\u001b[0m\u001b[0;34m.\u001b[0m\u001b[0mgl\u001b[0m \u001b[0;32mimport\u001b[0m \u001b[0;34m*\u001b[0m\u001b[0;34m\u001b[0m\u001b[0;34m\u001b[0m\u001b[0m\n\u001b[0m\u001b[1;32m     28\u001b[0m \u001b[0;32mexcept\u001b[0m \u001b[0mImportError\u001b[0m \u001b[0;32mas\u001b[0m \u001b[0me\u001b[0m\u001b[0;34m:\u001b[0m\u001b[0;34m\u001b[0m\u001b[0;34m\u001b[0m\u001b[0m\n",
      "\u001b[0;32m~/Documents/42/POC-IA-POOL/env/lib/python3.7/site-packages/pyglet/gl/__init__.py\u001b[0m in \u001b[0;36m<module>\u001b[0;34m\u001b[0m\n\u001b[1;32m     94\u001b[0m \u001b[0;34m\u001b[0m\u001b[0m\n\u001b[0;32m---> 95\u001b[0;31m \u001b[0;32mfrom\u001b[0m \u001b[0mpyglet\u001b[0m\u001b[0;34m.\u001b[0m\u001b[0mgl\u001b[0m\u001b[0;34m.\u001b[0m\u001b[0mlib\u001b[0m \u001b[0;32mimport\u001b[0m \u001b[0mGLException\u001b[0m\u001b[0;34m\u001b[0m\u001b[0;34m\u001b[0m\u001b[0m\n\u001b[0m\u001b[1;32m     96\u001b[0m \u001b[0;32mfrom\u001b[0m \u001b[0mpyglet\u001b[0m\u001b[0;34m.\u001b[0m\u001b[0mgl\u001b[0m\u001b[0;34m.\u001b[0m\u001b[0mgl\u001b[0m \u001b[0;32mimport\u001b[0m \u001b[0;34m*\u001b[0m\u001b[0;34m\u001b[0m\u001b[0;34m\u001b[0m\u001b[0m\n",
      "\u001b[0;32m~/Documents/42/POC-IA-POOL/env/lib/python3.7/site-packages/pyglet/gl/lib.py\u001b[0m in \u001b[0;36m<module>\u001b[0;34m\u001b[0m\n\u001b[1;32m    146\u001b[0m \u001b[0;32melif\u001b[0m \u001b[0mpyglet\u001b[0m\u001b[0;34m.\u001b[0m\u001b[0mcompat_platform\u001b[0m \u001b[0;34m==\u001b[0m \u001b[0;34m'darwin'\u001b[0m\u001b[0;34m:\u001b[0m\u001b[0;34m\u001b[0m\u001b[0;34m\u001b[0m\u001b[0m\n\u001b[0;32m--> 147\u001b[0;31m     \u001b[0;32mfrom\u001b[0m \u001b[0mpyglet\u001b[0m\u001b[0;34m.\u001b[0m\u001b[0mgl\u001b[0m\u001b[0;34m.\u001b[0m\u001b[0mlib_agl\u001b[0m \u001b[0;32mimport\u001b[0m \u001b[0mlink_GL\u001b[0m\u001b[0;34m,\u001b[0m \u001b[0mlink_GLU\u001b[0m\u001b[0;34m,\u001b[0m \u001b[0mlink_AGL\u001b[0m\u001b[0;34m\u001b[0m\u001b[0;34m\u001b[0m\u001b[0m\n\u001b[0m\u001b[1;32m    148\u001b[0m \u001b[0;32melse\u001b[0m\u001b[0;34m:\u001b[0m\u001b[0;34m\u001b[0m\u001b[0;34m\u001b[0m\u001b[0m\n",
      "\u001b[0;32m~/Documents/42/POC-IA-POOL/env/lib/python3.7/site-packages/pyglet/gl/lib_agl.py\u001b[0m in \u001b[0;36m<module>\u001b[0;34m\u001b[0m\n\u001b[1;32m     42\u001b[0m \u001b[0;34m\u001b[0m\u001b[0m\n\u001b[0;32m---> 43\u001b[0;31m \u001b[0mgl_lib\u001b[0m \u001b[0;34m=\u001b[0m \u001b[0mpyglet\u001b[0m\u001b[0;34m.\u001b[0m\u001b[0mlib\u001b[0m\u001b[0;34m.\u001b[0m\u001b[0mload_library\u001b[0m\u001b[0;34m(\u001b[0m\u001b[0mframework\u001b[0m\u001b[0;34m=\u001b[0m\u001b[0;34m'OpenGL'\u001b[0m\u001b[0;34m)\u001b[0m\u001b[0;34m\u001b[0m\u001b[0;34m\u001b[0m\u001b[0m\n\u001b[0m\u001b[1;32m     44\u001b[0m \u001b[0magl_lib\u001b[0m \u001b[0;34m=\u001b[0m \u001b[0mpyglet\u001b[0m\u001b[0;34m.\u001b[0m\u001b[0mlib\u001b[0m\u001b[0;34m.\u001b[0m\u001b[0mload_library\u001b[0m\u001b[0;34m(\u001b[0m\u001b[0mframework\u001b[0m\u001b[0;34m=\u001b[0m\u001b[0;34m'AGL'\u001b[0m\u001b[0;34m)\u001b[0m\u001b[0;34m\u001b[0m\u001b[0;34m\u001b[0m\u001b[0m\n",
      "\u001b[0;32m~/Documents/42/POC-IA-POOL/env/lib/python3.7/site-packages/pyglet/lib.py\u001b[0m in \u001b[0;36mload_library\u001b[0;34m(self, *names, **kwargs)\u001b[0m\n\u001b[1;32m    123\u001b[0m         \u001b[0;32mif\u001b[0m \u001b[0;34m'framework'\u001b[0m \u001b[0;32min\u001b[0m \u001b[0mkwargs\u001b[0m \u001b[0;32mand\u001b[0m \u001b[0mself\u001b[0m\u001b[0;34m.\u001b[0m\u001b[0mplatform\u001b[0m \u001b[0;34m==\u001b[0m \u001b[0;34m'darwin'\u001b[0m\u001b[0;34m:\u001b[0m\u001b[0;34m\u001b[0m\u001b[0;34m\u001b[0m\u001b[0m\n\u001b[0;32m--> 124\u001b[0;31m             \u001b[0;32mreturn\u001b[0m \u001b[0mself\u001b[0m\u001b[0;34m.\u001b[0m\u001b[0mload_framework\u001b[0m\u001b[0;34m(\u001b[0m\u001b[0mkwargs\u001b[0m\u001b[0;34m[\u001b[0m\u001b[0;34m'framework'\u001b[0m\u001b[0;34m]\u001b[0m\u001b[0;34m)\u001b[0m\u001b[0;34m\u001b[0m\u001b[0;34m\u001b[0m\u001b[0m\n\u001b[0m\u001b[1;32m    125\u001b[0m \u001b[0;34m\u001b[0m\u001b[0m\n",
      "\u001b[0;32m~/Documents/42/POC-IA-POOL/env/lib/python3.7/site-packages/pyglet/lib.py\u001b[0m in \u001b[0;36mload_framework\u001b[0;34m(self, path)\u001b[0m\n\u001b[1;32m    278\u001b[0m             \u001b[0;32mtry\u001b[0m\u001b[0;34m:\u001b[0m\u001b[0;34m\u001b[0m\u001b[0;34m\u001b[0m\u001b[0m\n\u001b[0;32m--> 279\u001b[0;31m                 \u001b[0;32mfor\u001b[0m \u001b[0mfile\u001b[0m \u001b[0;32min\u001b[0m \u001b[0mos\u001b[0m\u001b[0;34m.\u001b[0m\u001b[0mlistdir\u001b[0m\u001b[0;34m(\u001b[0m\u001b[0mdirectory\u001b[0m\u001b[0;34m)\u001b[0m\u001b[0;34m:\u001b[0m\u001b[0;34m\u001b[0m\u001b[0;34m\u001b[0m\u001b[0m\n\u001b[0m\u001b[1;32m    280\u001b[0m                     \u001b[0mmatch\u001b[0m \u001b[0;34m=\u001b[0m \u001b[0mlib_re\u001b[0m\u001b[0;34m.\u001b[0m\u001b[0mmatch\u001b[0m\u001b[0;34m(\u001b[0m\u001b[0mfile\u001b[0m\u001b[0;34m)\u001b[0m\u001b[0;34m\u001b[0m\u001b[0;34m\u001b[0m\u001b[0m\n",
      "\u001b[0;31mImportError\u001b[0m: Can't find framework OpenGL.",
      "\nDuring handling of the above exception, another exception occurred:\n",
      "\u001b[0;31mImportError\u001b[0m                               Traceback (most recent call last)",
      "\u001b[0;32m/var/folders/_3/t41kbsns4sj8lvxbh4lz4z4w0000gn/T/ipykernel_691/1230222434.py\u001b[0m in \u001b[0;36m<module>\u001b[0;34m\u001b[0m\n\u001b[1;32m      9\u001b[0m         \u001b[0mscore\u001b[0m \u001b[0;34m+=\u001b[0m \u001b[0mreward\u001b[0m\u001b[0;34m\u001b[0m\u001b[0;34m\u001b[0m\u001b[0m\n\u001b[1;32m     10\u001b[0m         \u001b[0mobservation\u001b[0m \u001b[0;34m=\u001b[0m \u001b[0mobservation_\u001b[0m\u001b[0;34m\u001b[0m\u001b[0;34m\u001b[0m\u001b[0m\n\u001b[0;32m---> 11\u001b[0;31m         \u001b[0mnew_env\u001b[0m\u001b[0;34m.\u001b[0m\u001b[0mrender\u001b[0m\u001b[0;34m(\u001b[0m\u001b[0;34m)\u001b[0m\u001b[0;34m\u001b[0m\u001b[0;34m\u001b[0m\u001b[0m\n\u001b[0m\u001b[1;32m     12\u001b[0m     \u001b[0mprint\u001b[0m\u001b[0;34m(\u001b[0m\u001b[0;34m'Game'\u001b[0m\u001b[0;34m,\u001b[0m \u001b[0mi\u001b[0m\u001b[0;34m,\u001b[0m \u001b[0;34m'Score:'\u001b[0m\u001b[0;34m,\u001b[0m \u001b[0mscore\u001b[0m\u001b[0;34m)\u001b[0m\u001b[0;34m\u001b[0m\u001b[0;34m\u001b[0m\u001b[0m\n\u001b[1;32m     13\u001b[0m \u001b[0mnew_env\u001b[0m\u001b[0;34m.\u001b[0m\u001b[0mclose\u001b[0m\u001b[0;34m(\u001b[0m\u001b[0;34m)\u001b[0m\u001b[0;34m\u001b[0m\u001b[0;34m\u001b[0m\u001b[0m\n",
      "\u001b[0;32m~/Documents/42/POC-IA-POOL/env/lib/python3.7/site-packages/gym/core.py\u001b[0m in \u001b[0;36mrender\u001b[0;34m(self, mode, **kwargs)\u001b[0m\n\u001b[1;32m    233\u001b[0m \u001b[0;34m\u001b[0m\u001b[0m\n\u001b[1;32m    234\u001b[0m     \u001b[0;32mdef\u001b[0m \u001b[0mrender\u001b[0m\u001b[0;34m(\u001b[0m\u001b[0mself\u001b[0m\u001b[0;34m,\u001b[0m \u001b[0mmode\u001b[0m\u001b[0;34m=\u001b[0m\u001b[0;34m'human'\u001b[0m\u001b[0;34m,\u001b[0m \u001b[0;34m**\u001b[0m\u001b[0mkwargs\u001b[0m\u001b[0;34m)\u001b[0m\u001b[0;34m:\u001b[0m\u001b[0;34m\u001b[0m\u001b[0;34m\u001b[0m\u001b[0m\n\u001b[0;32m--> 235\u001b[0;31m         \u001b[0;32mreturn\u001b[0m \u001b[0mself\u001b[0m\u001b[0;34m.\u001b[0m\u001b[0menv\u001b[0m\u001b[0;34m.\u001b[0m\u001b[0mrender\u001b[0m\u001b[0;34m(\u001b[0m\u001b[0mmode\u001b[0m\u001b[0;34m,\u001b[0m \u001b[0;34m**\u001b[0m\u001b[0mkwargs\u001b[0m\u001b[0;34m)\u001b[0m\u001b[0;34m\u001b[0m\u001b[0;34m\u001b[0m\u001b[0m\n\u001b[0m\u001b[1;32m    236\u001b[0m \u001b[0;34m\u001b[0m\u001b[0m\n\u001b[1;32m    237\u001b[0m     \u001b[0;32mdef\u001b[0m \u001b[0mclose\u001b[0m\u001b[0;34m(\u001b[0m\u001b[0mself\u001b[0m\u001b[0;34m)\u001b[0m\u001b[0;34m:\u001b[0m\u001b[0;34m\u001b[0m\u001b[0;34m\u001b[0m\u001b[0m\n",
      "\u001b[0;32m~/Documents/42/POC-IA-POOL/env/lib/python3.7/site-packages/gym/envs/classic_control/cartpole.py\u001b[0m in \u001b[0;36mrender\u001b[0;34m(self, mode)\u001b[0m\n\u001b[1;32m    148\u001b[0m \u001b[0;34m\u001b[0m\u001b[0m\n\u001b[1;32m    149\u001b[0m         \u001b[0;32mif\u001b[0m \u001b[0mself\u001b[0m\u001b[0;34m.\u001b[0m\u001b[0mviewer\u001b[0m \u001b[0;32mis\u001b[0m \u001b[0;32mNone\u001b[0m\u001b[0;34m:\u001b[0m\u001b[0;34m\u001b[0m\u001b[0;34m\u001b[0m\u001b[0m\n\u001b[0;32m--> 150\u001b[0;31m             \u001b[0;32mfrom\u001b[0m \u001b[0mgym\u001b[0m\u001b[0;34m.\u001b[0m\u001b[0menvs\u001b[0m\u001b[0;34m.\u001b[0m\u001b[0mclassic_control\u001b[0m \u001b[0;32mimport\u001b[0m \u001b[0mrendering\u001b[0m\u001b[0;34m\u001b[0m\u001b[0;34m\u001b[0m\u001b[0m\n\u001b[0m\u001b[1;32m    151\u001b[0m             \u001b[0mself\u001b[0m\u001b[0;34m.\u001b[0m\u001b[0mviewer\u001b[0m \u001b[0;34m=\u001b[0m \u001b[0mrendering\u001b[0m\u001b[0;34m.\u001b[0m\u001b[0mViewer\u001b[0m\u001b[0;34m(\u001b[0m\u001b[0mscreen_width\u001b[0m\u001b[0;34m,\u001b[0m \u001b[0mscreen_height\u001b[0m\u001b[0;34m)\u001b[0m\u001b[0;34m\u001b[0m\u001b[0;34m\u001b[0m\u001b[0m\n\u001b[1;32m    152\u001b[0m             \u001b[0ml\u001b[0m\u001b[0;34m,\u001b[0m\u001b[0mr\u001b[0m\u001b[0;34m,\u001b[0m\u001b[0mt\u001b[0m\u001b[0;34m,\u001b[0m\u001b[0mb\u001b[0m \u001b[0;34m=\u001b[0m \u001b[0;34m-\u001b[0m\u001b[0mcartwidth\u001b[0m\u001b[0;34m/\u001b[0m\u001b[0;36m2\u001b[0m\u001b[0;34m,\u001b[0m \u001b[0mcartwidth\u001b[0m\u001b[0;34m/\u001b[0m\u001b[0;36m2\u001b[0m\u001b[0;34m,\u001b[0m \u001b[0mcartheight\u001b[0m\u001b[0;34m/\u001b[0m\u001b[0;36m2\u001b[0m\u001b[0;34m,\u001b[0m \u001b[0;34m-\u001b[0m\u001b[0mcartheight\u001b[0m\u001b[0;34m/\u001b[0m\u001b[0;36m2\u001b[0m\u001b[0;34m\u001b[0m\u001b[0;34m\u001b[0m\u001b[0m\n",
      "\u001b[0;32m~/Documents/42/POC-IA-POOL/env/lib/python3.7/site-packages/gym/envs/classic_control/rendering.py\u001b[0m in \u001b[0;36m<module>\u001b[0;34m\u001b[0m\n\u001b[1;32m     32\u001b[0m     \u001b[0mIf\u001b[0m \u001b[0myou\u001b[0m\u001b[0;31m'\u001b[0m\u001b[0mre\u001b[0m \u001b[0mrunning\u001b[0m \u001b[0mon\u001b[0m \u001b[0ma\u001b[0m \u001b[0mserver\u001b[0m\u001b[0;34m,\u001b[0m \u001b[0myou\u001b[0m \u001b[0mmay\u001b[0m \u001b[0mneed\u001b[0m \u001b[0ma\u001b[0m \u001b[0mvirtual\u001b[0m \u001b[0mframe\u001b[0m \u001b[0mbuffer\u001b[0m\u001b[0;34m;\u001b[0m \u001b[0msomething\u001b[0m \u001b[0mlike\u001b[0m \u001b[0mthis\u001b[0m \u001b[0mshould\u001b[0m \u001b[0mwork\u001b[0m\u001b[0;34m:\u001b[0m\u001b[0;34m\u001b[0m\u001b[0;34m\u001b[0m\u001b[0m\n\u001b[1;32m     33\u001b[0m     \u001b[0;34m'xvfb-run -s \\\"-screen 0 1400x900x24\\\" python <your_script.py>'\u001b[0m\u001b[0;34m\u001b[0m\u001b[0;34m\u001b[0m\u001b[0m\n\u001b[0;32m---> 34\u001b[0;31m     ''')\n\u001b[0m\u001b[1;32m     35\u001b[0m \u001b[0;34m\u001b[0m\u001b[0m\n\u001b[1;32m     36\u001b[0m \u001b[0;32mimport\u001b[0m \u001b[0mmath\u001b[0m\u001b[0;34m\u001b[0m\u001b[0;34m\u001b[0m\u001b[0m\n",
      "\u001b[0;31mImportError\u001b[0m: \n    Error occurred while running `from pyglet.gl import *`\n    HINT: make sure you have OpenGL install. On Ubuntu, you can run 'apt-get install python-opengl'.\n    If you're running on a server, you may need a virtual frame buffer; something like this should work:\n    'xvfb-run -s \"-screen 0 1400x900x24\" python <your_script.py>'\n    "
     ]
    }
   ],
   "source": [
    "new_env = gym.make('CartPole-v1')\n",
    "for i in range(5):\n",
    "    score = 0\n",
    "    done = False\n",
    "    observation = new_env.reset()\n",
    "    while not done:\n",
    "        action = agent.choose_action(observation)\n",
    "        observation_, reward, done, info = new_env.step(action)\n",
    "        score += reward\n",
    "        observation = observation_\n",
    "        new_env.render()\n",
    "    print('Game', i, 'Score:', score)\n",
    "new_env.close()"
   ]
  },
  {
   "cell_type": "markdown",
   "metadata": {},
   "source": [
    "# Conclusion\n",
    "\n",
    "Seeing your first Deep-Q-learning algorithm in action is pretty cool isn't it ? \n",
    "\n",
    "Let's resume what we learned in this subject:\n",
    "* Q-Learning is fine, but not enough when increasing complexity.\n",
    "* Artificial neural networks being good at approximating functions, they are the perfect match when it comes to replacing the Q-Table by something more viable.\n",
    "* The Bellman Equation makes the learning possible by allowing us to shift the Q-Value of a state-action pair toward the Q-Value of the next state-action.\n",
    "* Reinforcement Learning is cool.\n",
    "\n",
    "Congrats on concluding this subject ! I hope that you enjoyed it and learned a lot of stuff.\\\n",
    "For those tough boys(and girls) that want EVEN MORE Reinforcement Learning action, the last subject of today will give you carte blanche to try and solve an harder environment."
   ]
  }
 ],
 "metadata": {
  "interpreter": {
   "hash": "916dbcbb3f70747c44a77c7bcd40155683ae19c65e1c03b4aa3499c5328201f1"
  },
  "kernelspec": {
   "display_name": "Python 3.8.10 64-bit",
   "language": "python",
   "name": "python3"
  },
  "language_info": {
   "codemirror_mode": {
    "name": "ipython",
    "version": 3
   },
   "file_extension": ".py",
   "mimetype": "text/x-python",
   "name": "python",
   "nbconvert_exporter": "python",
   "pygments_lexer": "ipython3",
   "version": "3.7.3"
  },
  "orig_nbformat": 4
 },
 "nbformat": 4,
 "nbformat_minor": 2
}
